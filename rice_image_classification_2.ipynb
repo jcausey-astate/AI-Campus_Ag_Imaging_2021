{
    "cells": [
        {
            "cell_type": "markdown",
            "source": [
                "# Rice Leaf Diseases: Implementing a Custom Model - Part 2\n",
                "## Using Transfer Learning to \"warm up\" our model's weights.\n",
                "\n",
                "This notebook will continue our exploration of the [Rice Leaf Diseases dataset from Kaggle](https://www.kaggle.com/vbookshelf/rice-leaf-diseases).  \n",
                "\n",
                "In this notebook, we will do the following:\n",
                "\n",
                "1. Create a CNN-based classifier network similar to [1], as we did in the previous notebook.\n",
                "2. Load pre-trained weights for transfer learning.  The model was pre-trained on the \"Plant Leaves\" dataset available at [2].\n",
                "3. Specialize the network on our rice image dataset (training partition), using lots of image augmentation to prevent overfitting.\n",
                "4. Predict on the testing partition, and display results with a confusion matrix and classification report.\n",
                "\n",
                "[1]: Wick, C. & Puppe, F. Leaf Identification Using a Deep Convolutional Neural Network. arXiv:1712.00967 [cs] (2017).\n",
                "\n",
                "[2]: CHOUHAN, Siddharth Singh; Kaul, Ajay; SINGH, UDAY PRATAP; Madhav Institute of Technology & Science  (2019), “A Database of Leaf Images: Practice towards Plant Conservation with Plant Pathology”, Mendeley Data, V1, doi: 10.17632/hb74ynkjcn.1 <https://data.mendeley.com/datasets/hb74ynkjcn/1>\n",
                "\n",
                "## Setting up your environment\n",
                "Before running this notebook, you will need to make sure you have [downloaded](https://www.kaggle.com/vbookshelf/rice-leaf-diseases) the dataset and extracted the files.  This notebook assumes the image data is extracted in the same directory as this notebook, and that the top-level data directory is named \"rice_leaf_diseases\".  You can edit the code if those assumptions do not hold on your own setup.\n",
                "\n",
                "## Python environment\n",
                "You will need the following packages installed to execute the code shown in this notebook:\n",
                "\n",
                "* [Matplotlib](https://matplotlib.org/)\n",
                "* [Numpy](https://numpy.org/)\n",
                "* [Pandas](https://pandas.pydata.org/)\n",
                "* [Scikit-Learn](https://scikit-learn.org/)\n",
                "* [Tensorflow](https://www.tensorflow.org/)\n",
                "\n",
                "## Local directory structure\n",
                "This notebook assumes you have the rice leaf images in the following directory structure:\n",
                "\n",
                "    rice_leaf_diseases/\n",
                "        Bacterial leaf blight/\n",
                "        Brown spot/\n",
                "        Leaf smut/\n",
                "\n",
                "The \"ground truth\" file \"_rice_leaf_diseases_ground_truth.csv_\" was created in the previous (\"rice_image_EDA\") notebook.  If you don't have this file, you can create it by running the first several cells in that notebook, which is available [by clicking here](https://gist.github.com/jcausey-astate/207ba4d65126abe0482b740b41117f9e).\n",
                "\n",
                "The pre-trained weights we will be using are available at: <TODO-LINK-HERE>"
            ],
            "metadata": {}
        },
        {
            "cell_type": "code",
            "execution_count": 1,
            "source": [
                "import pandas as pd\n",
                "import numpy as np\n",
                "from sklearn.model_selection import StratifiedShuffleSplit\n",
                "import sklearn.metrics as metrics\n",
                "import tensorflow as tf\n",
                "import tensorflow.keras as keras\n",
                "import matplotlib.pyplot as plt"
            ],
            "outputs": [],
            "metadata": {}
        },
        {
            "cell_type": "markdown",
            "source": [
                "First, we will create a function that will actually define the structure of the network.  We use Wick et al. (2017) as a guide, and fill in the missing details with common choices (activations, amount of dropout, etc.)."
            ],
            "metadata": {}
        },
        {
            "cell_type": "code",
            "execution_count": 2,
            "source": [
                "def build_leaf_classifier_model(input_shape=(256,256,3), n_classes=3):\n",
                "    '''\n",
                "    This function builds a Keras CNN similar to the one described in Wick et al. (2017).\n",
                "    '''\n",
                "    lrelu = keras.layers.LeakyReLU()\n",
                "    input = keras.layers.Input(shape=input_shape)\n",
                "    x = keras.layers.Conv2D(40, (3,3), activation=lrelu, padding='same', name=\"conv1\")(input)\n",
                "    x = keras.layers.MaxPool2D((2,2), name='max_pool1')(x)\n",
                "    x = keras.layers.Conv2D(40, (4,4), activation=lrelu, padding='same', name='conv2')(x)\n",
                "    x = keras.layers.MaxPool2D((2,2), name='max_pool2')(x)\n",
                "    x = keras.layers.Conv2D(80, (4,4), activation=lrelu, padding='same', name='conv3')(x)\n",
                "    x = keras.layers.MaxPool2D((2,2), name='max_pool3')(x)\n",
                "    x = keras.layers.Conv2D(160, (4,4), activation=lrelu, padding='same', name='conv4')(x)\n",
                "    x = keras.layers.MaxPool2D((2,2), name='max_pool4')(x)\n",
                "    x = keras.layers.Flatten(name='flatten')(x)\n",
                "    x = keras.layers.Dense(500, activation=lrelu, name='dense_feature')(x)\n",
                "    x = keras.layers.Dropout(0.20, name='dropout1')(x)\n",
                "    x = keras.layers.Dense(n_classes, activation='softmax', name='dense_output')(x)\n",
                "    return keras.Model(inputs=input, outputs=x)"
            ],
            "outputs": [],
            "metadata": {}
        },
        {
            "cell_type": "markdown",
            "source": [
                "Let's create an instance of the model and see the summary:"
            ],
            "metadata": {}
        },
        {
            "cell_type": "code",
            "execution_count": 3,
            "source": [
                "plant_leaves_model = build_leaf_classifier_model(n_classes=22) # Need 22 classes for pre-trained model\n",
                "plant_leaves_model.summary()"
            ],
            "outputs": [
                {
                    "output_type": "stream",
                    "name": "stdout",
                    "text": [
                        "Model: \"model\"\n",
                        "_________________________________________________________________\n",
                        "Layer (type)                 Output Shape              Param #   \n",
                        "=================================================================\n",
                        "input_1 (InputLayer)         [(None, 256, 256, 3)]     0         \n",
                        "_________________________________________________________________\n",
                        "conv1 (Conv2D)               (None, 256, 256, 40)      1120      \n",
                        "_________________________________________________________________\n",
                        "max_pool1 (MaxPooling2D)     (None, 128, 128, 40)      0         \n",
                        "_________________________________________________________________\n",
                        "conv2 (Conv2D)               (None, 128, 128, 40)      25640     \n",
                        "_________________________________________________________________\n",
                        "max_pool2 (MaxPooling2D)     (None, 64, 64, 40)        0         \n",
                        "_________________________________________________________________\n",
                        "conv3 (Conv2D)               (None, 64, 64, 80)        51280     \n",
                        "_________________________________________________________________\n",
                        "max_pool3 (MaxPooling2D)     (None, 32, 32, 80)        0         \n",
                        "_________________________________________________________________\n",
                        "conv4 (Conv2D)               (None, 32, 32, 160)       204960    \n",
                        "_________________________________________________________________\n",
                        "max_pool4 (MaxPooling2D)     (None, 16, 16, 160)       0         \n",
                        "_________________________________________________________________\n",
                        "flatten (Flatten)            (None, 40960)             0         \n",
                        "_________________________________________________________________\n",
                        "dense_feature (Dense)        (None, 500)               20480500  \n",
                        "_________________________________________________________________\n",
                        "dropout1 (Dropout)           (None, 500)               0         \n",
                        "_________________________________________________________________\n",
                        "dense_output (Dense)         (None, 22)                11022     \n",
                        "=================================================================\n",
                        "Total params: 20,774,522\n",
                        "Trainable params: 20,774,522\n",
                        "Non-trainable params: 0\n",
                        "_________________________________________________________________\n"
                    ]
                }
            ],
            "metadata": {}
        },
        {
            "cell_type": "markdown",
            "source": [
                "## Load the pre-trained weights from the Plant Leaves dataset:"
            ],
            "metadata": {}
        },
        {
            "cell_type": "code",
            "execution_count": 4,
            "source": [
                "plant_leaves_weights = \"plant_leaves_weights_30-0.35.h5\"\n",
                "plant_leaves_model.load_weights(plant_leaves_weights)"
            ],
            "outputs": [],
            "metadata": {}
        },
        {
            "cell_type": "markdown",
            "source": [
                "## Customize the model for our rice data:\n",
                "We need to replace the classifier layer, creating a rice leaf model.  We will add one hidden layer (a Dense layer with 64 units) and an output layer to give us probabilities for our 3 classes.  These will receive the output from the feature layer in the pre-trained model (which has 500 units)."
            ],
            "metadata": {}
        },
        {
            "cell_type": "code",
            "execution_count": 5,
            "source": [
                "# Replace the classifier layer, creating a rice leaf model:\n",
                "plant_feature_layer = plant_leaves_model.get_layer(\"dense_feature\").output\n",
                "new_features_layer = keras.layers.Dense(64, activation='relu', name=\"rice_features\")(plant_feature_layer)\n",
                "new_output_layer = keras.layers.Dense(3, activation='softmax', name=\"rice_outputs\")(new_features_layer)\n",
                "rice_disease_model = keras.Model(\n",
                "    inputs=plant_leaves_model.input,\n",
                "    outputs=new_output_layer\n",
                ")"
            ],
            "outputs": [],
            "metadata": {}
        },
        {
            "cell_type": "code",
            "execution_count": 6,
            "source": [
                "rice_disease_model.summary()"
            ],
            "outputs": [
                {
                    "output_type": "stream",
                    "name": "stdout",
                    "text": [
                        "Model: \"model_1\"\n",
                        "_________________________________________________________________\n",
                        "Layer (type)                 Output Shape              Param #   \n",
                        "=================================================================\n",
                        "input_1 (InputLayer)         [(None, 256, 256, 3)]     0         \n",
                        "_________________________________________________________________\n",
                        "conv1 (Conv2D)               (None, 256, 256, 40)      1120      \n",
                        "_________________________________________________________________\n",
                        "max_pool1 (MaxPooling2D)     (None, 128, 128, 40)      0         \n",
                        "_________________________________________________________________\n",
                        "conv2 (Conv2D)               (None, 128, 128, 40)      25640     \n",
                        "_________________________________________________________________\n",
                        "max_pool2 (MaxPooling2D)     (None, 64, 64, 40)        0         \n",
                        "_________________________________________________________________\n",
                        "conv3 (Conv2D)               (None, 64, 64, 80)        51280     \n",
                        "_________________________________________________________________\n",
                        "max_pool3 (MaxPooling2D)     (None, 32, 32, 80)        0         \n",
                        "_________________________________________________________________\n",
                        "conv4 (Conv2D)               (None, 32, 32, 160)       204960    \n",
                        "_________________________________________________________________\n",
                        "max_pool4 (MaxPooling2D)     (None, 16, 16, 160)       0         \n",
                        "_________________________________________________________________\n",
                        "flatten (Flatten)            (None, 40960)             0         \n",
                        "_________________________________________________________________\n",
                        "dense_feature (Dense)        (None, 500)               20480500  \n",
                        "_________________________________________________________________\n",
                        "rice_features (Dense)        (None, 64)                32064     \n",
                        "_________________________________________________________________\n",
                        "rice_outputs (Dense)         (None, 3)                 195       \n",
                        "=================================================================\n",
                        "Total params: 20,795,759\n",
                        "Trainable params: 20,795,759\n",
                        "Non-trainable params: 0\n",
                        "_________________________________________________________________\n"
                    ]
                }
            ],
            "metadata": {}
        },
        {
            "cell_type": "markdown",
            "source": [
                "This model has almost 21 million parameters, but we have already trained most of them (all except the $32,064 + 195 = 32,259$ parameters from the new feature and output layers).  \n",
                "\n",
                "We will fit those ~32K new weights on a training dataset, with augmentation.\n",
                "\n",
                "Let's load the dataset and use `StratifiedShuffleSplit` to create an 80/20 train/test split:"
            ],
            "metadata": {}
        },
        {
            "cell_type": "code",
            "execution_count": 7,
            "source": [
                "ground_truth_df = pd.read_csv(\"rice_leaf_diseases_ground_truth.csv\")\n",
                "ground_truth_df.head()\n",
                "sss = StratifiedShuffleSplit(1, test_size=0.20, random_state=2021)\n",
                "train_indices, test_indices = list(sss.split(ground_truth_df.values, ground_truth_df['class'].values))[0]\n",
                "print(f\"Training set has {train_indices.shape[0]} samples.\")\n",
                "print(f\"Test set has {test_indices.shape[0]} samples.\")"
            ],
            "outputs": [
                {
                    "output_type": "stream",
                    "name": "stdout",
                    "text": [
                        "Training set has 96 samples.\n",
                        "Test set has 24 samples.\n"
                    ]
                }
            ],
            "metadata": {}
        },
        {
            "cell_type": "markdown",
            "source": [
                "Now we will set up our image data generators for training and testing.\n",
                "\n",
                "The training generator will not do any augmentation.  It will only scale the image to contain values in the $[0,1]$ numeric range.\n",
                "\n",
                "The test generator will perform several kinds of augmentation, in addition to rescaling the image to $[0,1]$: \n",
                "\n"
            ],
            "metadata": {}
        },
        {
            "cell_type": "code",
            "execution_count": 8,
            "source": [
                "# Declare the generator (we will take default initial paramters for now)\n",
                "test_generator = keras.preprocessing.image.ImageDataGenerator(\n",
                "    rescale=1.0/255.0\n",
                ")\n",
                "train_generator = keras.preprocessing.image.ImageDataGenerator(\n",
                "    rescale=1.0/255.0,\n",
                "    horizontal_flip=True,\n",
                "    vertical_flip=True,\n",
                "    rotation_range=60,\n",
                "    width_shift_range=0.20,\n",
                "    height_shift_range=0.10,\n",
                "    zoom_range=0.2,\n",
                "    brightness_range=(0.5, 1.25),\n",
                ")"
            ],
            "outputs": [],
            "metadata": {}
        },
        {
            "cell_type": "markdown",
            "source": [
                "Now, we will create a \"flow\" (this is actually the seqeunce of data that will feed the model).  We want one for training that uses only the \"train\" rows in the ground truth dataframe, and one for testing that uses only the \"test\" rows.  The training flow will be shuffled, the testing one need not be, so we won't."
            ],
            "metadata": {}
        },
        {
            "cell_type": "code",
            "execution_count": 9,
            "source": [
                "BATCH_SIZE = 32\n",
                "train_dataflow = train_generator.flow_from_dataframe(\n",
                "    ground_truth_df.iloc[train_indices,:],\n",
                "    x_col = \"image_path\",\n",
                "    y_col = \"class\",\n",
                "    target_size = (256,256),\n",
                "    shuffle = True,\n",
                "    seed = 2021,\n",
                "    batch_size=BATCH_SIZE,\n",
                ")\n",
                "test_dataflow = test_generator.flow_from_dataframe(\n",
                "    ground_truth_df.iloc[test_indices,:],\n",
                "    x_col = \"image_path\",\n",
                "    y_col = \"class\",\n",
                "    target_size = (256,256),\n",
                "    shuffle = False,\n",
                "    seed = 2021,\n",
                "    batch_size=BATCH_SIZE,\n",
                ")"
            ],
            "outputs": [
                {
                    "output_type": "stream",
                    "name": "stdout",
                    "text": [
                        "Found 96 validated image filenames belonging to 3 classes.\n",
                        "Found 24 validated image filenames belonging to 3 classes.\n"
                    ]
                }
            ],
            "metadata": {}
        },
        {
            "cell_type": "markdown",
            "source": [
                "Now, we can compile the model and train it.  But we need to do a little work to make sure we are only training the _new_ layers, not changing the training on the pre-trained layers:\n",
                "\n",
                "1. Set the whole model to \"not trainable\" - this gets all layers in one line.\n",
                "2. Set our new \"feature\" layer (`rice_features`) to \"trainable\".\n",
                "3. Set our output layer (`rice_outputs`) to \"trainable\".\n",
                "\n",
                "Then we can use the `fit()` method to train the model for a while.  We use 30 epochs here."
            ],
            "metadata": {}
        },
        {
            "cell_type": "code",
            "execution_count": 10,
            "source": [
                "rice_disease_model.compile(optimizer='adam', loss='categorical_crossentropy', metrics=['acc'])\n",
                "rice_disease_model.trainable = False\n",
                "rice_disease_model.get_layer(\"rice_features\").trainable = True\n",
                "rice_disease_model.get_layer(\"rice_outputs\").trainable = True\n",
                "\n",
                "rice_disease_model.fit(\n",
                "    train_dataflow,\n",
                "    validation_data=test_dataflow,\n",
                "    epochs=30,\n",
                "    batch_size=BATCH_SIZE\n",
                ")"
            ],
            "outputs": [
                {
                    "output_type": "stream",
                    "name": "stdout",
                    "text": [
                        "Epoch 1/30\n",
                        "3/3 [==============================] - 7s 2s/step - loss: 4.5445 - acc: 0.3021 - val_loss: 4.1712 - val_acc: 0.3333\n",
                        "Epoch 2/30\n",
                        "3/3 [==============================] - 7s 2s/step - loss: 1.9246 - acc: 0.4479 - val_loss: 1.5081 - val_acc: 0.3750\n",
                        "Epoch 3/30\n",
                        "3/3 [==============================] - 6s 2s/step - loss: 1.3108 - acc: 0.4479 - val_loss: 0.7804 - val_acc: 0.7500\n",
                        "Epoch 4/30\n",
                        "3/3 [==============================] - 6s 2s/step - loss: 0.8157 - acc: 0.6042 - val_loss: 0.9802 - val_acc: 0.6667\n",
                        "Epoch 5/30\n",
                        "3/3 [==============================] - 6s 2s/step - loss: 0.9428 - acc: 0.6979 - val_loss: 0.7191 - val_acc: 0.7500\n",
                        "Epoch 6/30\n",
                        "3/3 [==============================] - 6s 2s/step - loss: 0.5865 - acc: 0.7917 - val_loss: 0.5919 - val_acc: 0.7083\n",
                        "Epoch 7/30\n",
                        "3/3 [==============================] - 6s 2s/step - loss: 0.5769 - acc: 0.8021 - val_loss: 0.4242 - val_acc: 0.8750\n",
                        "Epoch 8/30\n",
                        "3/3 [==============================] - 6s 2s/step - loss: 0.5714 - acc: 0.7917 - val_loss: 0.6613 - val_acc: 0.7917\n",
                        "Epoch 9/30\n",
                        "3/3 [==============================] - 7s 2s/step - loss: 0.5565 - acc: 0.7812 - val_loss: 0.2958 - val_acc: 0.9583\n",
                        "Epoch 10/30\n",
                        "3/3 [==============================] - 7s 2s/step - loss: 0.5291 - acc: 0.7604 - val_loss: 0.2867 - val_acc: 0.8750\n",
                        "Epoch 11/30\n",
                        "3/3 [==============================] - 7s 2s/step - loss: 0.4990 - acc: 0.7812 - val_loss: 0.5545 - val_acc: 0.7083\n",
                        "Epoch 12/30\n",
                        "3/3 [==============================] - 7s 2s/step - loss: 0.5684 - acc: 0.7812 - val_loss: 0.2100 - val_acc: 0.8750\n",
                        "Epoch 13/30\n",
                        "3/3 [==============================] - 7s 2s/step - loss: 0.3909 - acc: 0.8021 - val_loss: 0.2078 - val_acc: 1.0000\n",
                        "Epoch 14/30\n",
                        "3/3 [==============================] - 7s 2s/step - loss: 0.3414 - acc: 0.8125 - val_loss: 0.3628 - val_acc: 0.8750\n",
                        "Epoch 15/30\n",
                        "3/3 [==============================] - 7s 2s/step - loss: 0.2532 - acc: 0.9271 - val_loss: 0.3940 - val_acc: 0.9583\n",
                        "Epoch 16/30\n",
                        "3/3 [==============================] - 7s 2s/step - loss: 0.3588 - acc: 0.8646 - val_loss: 0.6661 - val_acc: 0.8333\n",
                        "Epoch 17/30\n",
                        "3/3 [==============================] - 7s 2s/step - loss: 0.3459 - acc: 0.8542 - val_loss: 0.6537 - val_acc: 0.8333\n",
                        "Epoch 18/30\n",
                        "3/3 [==============================] - 6s 2s/step - loss: 0.1918 - acc: 0.9375 - val_loss: 0.4310 - val_acc: 0.9583\n",
                        "Epoch 19/30\n",
                        "3/3 [==============================] - 6s 2s/step - loss: 0.2531 - acc: 0.9375 - val_loss: 0.9594 - val_acc: 0.8333\n",
                        "Epoch 20/30\n",
                        "3/3 [==============================] - 6s 2s/step - loss: 0.3269 - acc: 0.8646 - val_loss: 0.3554 - val_acc: 0.9167\n",
                        "Epoch 21/30\n",
                        "3/3 [==============================] - 6s 2s/step - loss: 0.1713 - acc: 0.9375 - val_loss: 0.3326 - val_acc: 0.7917\n",
                        "Epoch 22/30\n",
                        "3/3 [==============================] - 6s 2s/step - loss: 0.4320 - acc: 0.8750 - val_loss: 0.5188 - val_acc: 0.7500\n",
                        "Epoch 23/30\n",
                        "3/3 [==============================] - 6s 2s/step - loss: 0.6408 - acc: 0.8646 - val_loss: 0.4417 - val_acc: 0.7917\n",
                        "Epoch 24/30\n",
                        "3/3 [==============================] - 6s 2s/step - loss: 0.4298 - acc: 0.8125 - val_loss: 0.5866 - val_acc: 0.8333\n",
                        "Epoch 25/30\n",
                        "3/3 [==============================] - 7s 2s/step - loss: 0.3642 - acc: 0.8542 - val_loss: 0.4948 - val_acc: 0.8333\n",
                        "Epoch 26/30\n",
                        "3/3 [==============================] - 7s 2s/step - loss: 0.2601 - acc: 0.8854 - val_loss: 0.5349 - val_acc: 0.8750\n",
                        "Epoch 27/30\n",
                        "3/3 [==============================] - 7s 2s/step - loss: 0.3049 - acc: 0.8229 - val_loss: 0.5665 - val_acc: 0.8750\n",
                        "Epoch 28/30\n",
                        "3/3 [==============================] - 6s 2s/step - loss: 0.2788 - acc: 0.8958 - val_loss: 0.5554 - val_acc: 0.8750\n",
                        "Epoch 29/30\n",
                        "3/3 [==============================] - 7s 2s/step - loss: 0.2975 - acc: 0.9062 - val_loss: 0.2133 - val_acc: 0.9583\n",
                        "Epoch 30/30\n",
                        "3/3 [==============================] - 7s 2s/step - loss: 0.3203 - acc: 0.8854 - val_loss: 0.2642 - val_acc: 0.9583\n"
                    ]
                },
                {
                    "output_type": "execute_result",
                    "data": {
                        "text/plain": [
                            "<tensorflow.python.keras.callbacks.History at 0x194949e20>"
                        ]
                    },
                    "metadata": {},
                    "execution_count": 10
                }
            ],
            "metadata": {}
        },
        {
            "cell_type": "markdown",
            "source": [
                "Now, we have trained the model for a bit - let's see how the accuracy actually looks with our previous metrics:"
            ],
            "metadata": {}
        },
        {
            "cell_type": "code",
            "execution_count": 11,
            "source": [
                "class_to_int = test_dataflow.class_indices\n",
                "image_classes = sorted(class_to_int.keys())\n",
                "print(image_classes)\n",
                "gt_classes = test_dataflow.classes\n",
                "print(gt_classes)"
            ],
            "outputs": [
                {
                    "output_type": "stream",
                    "name": "stdout",
                    "text": [
                        "['brown_spot', 'leaf_blight', 'leaf_smut']\n",
                        "[2, 2, 2, 1, 0, 1, 1, 0, 2, 2, 1, 0, 0, 0, 1, 1, 2, 1, 2, 1, 0, 0, 2, 0]\n"
                    ]
                }
            ],
            "metadata": {}
        },
        {
            "cell_type": "code",
            "execution_count": 12,
            "source": [
                "predictions = rice_disease_model.predict(test_dataflow)\n",
                "predicted_classes = list(np.argmax(predictions, axis=1))\n",
                "print(predicted_classes)"
            ],
            "outputs": [
                {
                    "output_type": "stream",
                    "name": "stdout",
                    "text": [
                        "[2, 2, 2, 1, 0, 1, 1, 0, 2, 2, 1, 0, 0, 0, 2, 1, 2, 1, 2, 1, 0, 0, 2, 0]\n"
                    ]
                }
            ],
            "metadata": {}
        },
        {
            "cell_type": "code",
            "execution_count": 13,
            "source": [
                "metrics.ConfusionMatrixDisplay(\n",
                "    metrics.confusion_matrix(gt_classes, predicted_classes), \n",
                "    display_labels=image_classes\n",
                ").plot()"
            ],
            "outputs": [
                {
                    "output_type": "execute_result",
                    "data": {
                        "text/plain": [
                            "<sklearn.metrics._plot.confusion_matrix.ConfusionMatrixDisplay at 0x1948a97c0>"
                        ]
                    },
                    "metadata": {},
                    "execution_count": 13
                },
                {
                    "output_type": "display_data",
                    "data": {
                        "text/plain": [
                            "<Figure size 432x288 with 2 Axes>"
                        ],
                        "image/png": "[encoded data removed]"
                    },
                    "metadata": {
                        "needs_background": "light"
                    }
                }
            ],
            "metadata": {}
        },
        {
            "cell_type": "code",
            "execution_count": 14,
            "source": [
                "print(metrics.classification_report(gt_classes, predicted_classes, target_names=image_classes))"
            ],
            "outputs": [
                {
                    "output_type": "stream",
                    "name": "stdout",
                    "text": [
                        "              precision    recall  f1-score   support\n",
                        "\n",
                        "  brown_spot       1.00      1.00      1.00         8\n",
                        " leaf_blight       1.00      0.88      0.93         8\n",
                        "   leaf_smut       0.89      1.00      0.94         8\n",
                        "\n",
                        "    accuracy                           0.96        24\n",
                        "   macro avg       0.96      0.96      0.96        24\n",
                        "weighted avg       0.96      0.96      0.96        24\n",
                        "\n"
                    ]
                }
            ],
            "metadata": {}
        },
        {
            "cell_type": "markdown",
            "source": [
                "This is pretty good performance!  We nearly got it perfect.  Parameter tuning might make it work even better (although we would need to do a cross-validation to really be sure)."
            ],
            "metadata": {}
        }
    ],
    "metadata": {
        "orig_nbformat": 4,
        "language_info": {
            "name": "python"
        }
    },
    "nbformat": 4,
    "nbformat_minor": 2
}