{
    "cells": [
        {
            "cell_type": "markdown",
            "source": [
                "# Rice Leaf Diseases: Implementing a Custom Model\n",
                "\n",
                "This notebook will continue our exploration of the [Rice Leaf Diseases dataset from Kaggle](https://www.kaggle.com/vbookshelf/rice-leaf-diseases).  \n",
                "\n",
                "In this notebook, we will do the following:\n",
                "\n",
                "1. Create a CNN-based classifier network similar to [1].\n",
                "3. Train the network directly on our rice image dataset (training partition), using lots of image augmentation to prevent overfitting.\n",
                "4. Predict on the testing partition, and display results with a confusion matrix and classification report.\n",
                "\n",
                "[1]: Wick, C. & Puppe, F. Leaf Identification Using a Deep Convolutional Neural Network. arXiv:1712.00967 [cs] (2017).\n",
                "\n",
                "## Setting up your environment\n",
                "Before running this notebook, you will need to make sure you have [downloaded](https://www.kaggle.com/vbookshelf/rice-leaf-diseases) the dataset and extracted the files.  This notebook assumes the image data is extracted in the same directory as this notebook, and that the top-level data directory is named \"rice_leaf_diseases\".  You can edit the code if those assumptions do not hold on your own setup.\n",
                "\n",
                "## Python environment\n",
                "You will need the following packages installed to execute the code shown in this notebook:\n",
                "\n",
                "* [Matplotlib](https://matplotlib.org/)\n",
                "* [Numpy](https://numpy.org/)\n",
                "* [Pandas](https://pandas.pydata.org/)\n",
                "* [Scikit-Learn](https://scikit-learn.org/)\n",
                "* [Tensorflow](https://www.tensorflow.org/)\n",
                "\n",
                "## Local directory structure\n",
                "This notebook assumes you have the rice leaf images in the following directory structure:\n",
                "\n",
                "    rice_leaf_diseases/\n",
                "        Bacterial leaf blight/\n",
                "        Brown spot/\n",
                "        Leaf smut/\n",
                "\n",
                "The \"ground truth\" file \"_rice_leaf_diseases_ground_truth.csv_\" was created in the previous (\"rice_image_EDA\") notebook.  If you don't have this file, you can create it by running the first several cells in that notebook, which is available [by clicking here](https://gist.github.com/jcausey-astate/207ba4d65126abe0482b740b41117f9e)."
            ],
            "metadata": {}
        },
        {
            "cell_type": "code",
            "execution_count": 1,
            "source": [
                "import pandas as pd\n",
                "import numpy as np\n",
                "from sklearn.model_selection import StratifiedShuffleSplit\n",
                "import sklearn.metrics as metrics\n",
                "import tensorflow as tf\n",
                "import tensorflow.keras as keras\n",
                "import matplotlib.pyplot as plt"
            ],
            "outputs": [],
            "metadata": {}
        },
        {
            "cell_type": "markdown",
            "source": [
                "First, we will create a function that will actually define the structure of the network.  We use Wick et al. (2017) as a guide, and fill in the missing details with common choices (activations, amount of dropout, etc.)."
            ],
            "metadata": {}
        },
        {
            "cell_type": "code",
            "execution_count": 2,
            "source": [
                "def build_leaf_classifier_model(input_shape=(256,256,3), n_classes=3):\n",
                "    '''\n",
                "    This function builds a Keras CNN similar to the one described in Wick et al. (2017).\n",
                "    '''\n",
                "    lrelu = keras.layers.LeakyReLU()\n",
                "    input = keras.layers.Input(shape=input_shape)\n",
                "    x = keras.layers.Conv2D(40, (3,3), activation=lrelu, padding='same', name=\"conv1\")(input)\n",
                "    x = keras.layers.MaxPool2D((2,2), name='max_pool1')(x)\n",
                "    x = keras.layers.Conv2D(40, (4,4), activation=lrelu, padding='same', name='conv2')(x)\n",
                "    x = keras.layers.MaxPool2D((2,2), name='max_pool2')(x)\n",
                "    x = keras.layers.Conv2D(80, (4,4), activation=lrelu, padding='same', name='conv3')(x)\n",
                "    x = keras.layers.MaxPool2D((2,2), name='max_pool3')(x)\n",
                "    x = keras.layers.Conv2D(160, (4,4), activation=lrelu, padding='same', name='conv4')(x)\n",
                "    x = keras.layers.MaxPool2D((2,2), name='max_pool4')(x)\n",
                "    x = keras.layers.Flatten()(x)\n",
                "    x = keras.layers.Dense(500, activation=lrelu)(x)\n",
                "    x = keras.layers.Dropout(0.20)(x)\n",
                "    x = keras.layers.Dense(n_classes, activation='softmax')(x)\n",
                "    return keras.Model(inputs=input, outputs=x)"
            ],
            "outputs": [],
            "metadata": {}
        },
        {
            "cell_type": "markdown",
            "source": [
                "Let's create an instance of the model and see the summary:"
            ],
            "metadata": {}
        },
        {
            "cell_type": "code",
            "execution_count": 3,
            "source": [
                "leaf_model = build_leaf_classifier_model()\n",
                "leaf_model.summary()"
            ],
            "outputs": [
                {
                    "output_type": "stream",
                    "name": "stdout",
                    "text": [
                        "Model: \"model\"\n",
                        "_________________________________________________________________\n",
                        "Layer (type)                 Output Shape              Param #   \n",
                        "=================================================================\n",
                        "input_1 (InputLayer)         [(None, 256, 256, 3)]     0         \n",
                        "_________________________________________________________________\n",
                        "conv1 (Conv2D)               (None, 256, 256, 40)      1120      \n",
                        "_________________________________________________________________\n",
                        "max_pool1 (MaxPooling2D)     (None, 128, 128, 40)      0         \n",
                        "_________________________________________________________________\n",
                        "conv2 (Conv2D)               (None, 128, 128, 40)      25640     \n",
                        "_________________________________________________________________\n",
                        "max_pool2 (MaxPooling2D)     (None, 64, 64, 40)        0         \n",
                        "_________________________________________________________________\n",
                        "conv3 (Conv2D)               (None, 64, 64, 80)        51280     \n",
                        "_________________________________________________________________\n",
                        "max_pool3 (MaxPooling2D)     (None, 32, 32, 80)        0         \n",
                        "_________________________________________________________________\n",
                        "conv4 (Conv2D)               (None, 32, 32, 160)       204960    \n",
                        "_________________________________________________________________\n",
                        "max_pool4 (MaxPooling2D)     (None, 16, 16, 160)       0         \n",
                        "_________________________________________________________________\n",
                        "flatten (Flatten)            (None, 40960)             0         \n",
                        "_________________________________________________________________\n",
                        "dense (Dense)                (None, 500)               20480500  \n",
                        "_________________________________________________________________\n",
                        "dropout (Dropout)            (None, 500)               0         \n",
                        "_________________________________________________________________\n",
                        "dense_1 (Dense)              (None, 3)                 1503      \n",
                        "=================================================================\n",
                        "Total params: 20,765,003\n",
                        "Trainable params: 20,765,003\n",
                        "Non-trainable params: 0\n",
                        "_________________________________________________________________\n"
                    ]
                }
            ],
            "metadata": {}
        },
        {
            "cell_type": "markdown",
            "source": [
                "This model has almost 21 million parameters, which is a bit high for training directly with such a small amount of training data available, but it will give us a good baseline for how well the model can do.\n",
                "\n",
                "We will train the model from scratch using more or less the same strategy we used with the previous transfer learning example (except for the transfer learning part, of course).\n",
                "\n",
                "Let's load the dataset and use `StratifiedShuffleSplit` to create an 80/20 train/test split:"
            ],
            "metadata": {}
        },
        {
            "cell_type": "code",
            "execution_count": 4,
            "source": [
                "ground_truth_df = pd.read_csv(\"rice_leaf_diseases_ground_truth.csv\")\n",
                "ground_truth_df.head()\n",
                "sss = StratifiedShuffleSplit(1, test_size=0.20, random_state=2021)\n",
                "train_indices, test_indices = list(sss.split(ground_truth_df.values, ground_truth_df['class'].values))[0]\n",
                "print(f\"Training set has {train_indices.shape[0]} samples.\")\n",
                "print(f\"Test set has {test_indices.shape[0]} samples.\")"
            ],
            "outputs": [
                {
                    "output_type": "stream",
                    "name": "stdout",
                    "text": [
                        "Training set has 96 samples.\n",
                        "Test set has 24 samples.\n"
                    ]
                }
            ],
            "metadata": {}
        },
        {
            "cell_type": "markdown",
            "source": [
                "Now we will set up our image data generators for training and testing.\n",
                "\n",
                "The training generator will not do any augmentation.  It will only scale the image to contain values in the $[0,1]$ numeric range.\n",
                "\n",
                "The test generator will perform several kinds of augmentation, in addition to rescaling the image to $[0,1]$: \n",
                "\n"
            ],
            "metadata": {}
        },
        {
            "cell_type": "code",
            "execution_count": 5,
            "source": [
                "# Declare the generator (we will take default initial paramters for now)\n",
                "test_generator = keras.preprocessing.image.ImageDataGenerator(\n",
                "    rescale=1.0/255.0\n",
                ")\n",
                "train_generator = keras.preprocessing.image.ImageDataGenerator(\n",
                "    rescale=1.0/255.0,\n",
                "    horizontal_flip=True,\n",
                "    vertical_flip=True,\n",
                "    rotation_range=60,\n",
                "    width_shift_range=0.20,\n",
                "    height_shift_range=0.10,\n",
                "    zoom_range=0.2,\n",
                "    brightness_range=(0.5, 1.25),\n",
                ")"
            ],
            "outputs": [],
            "metadata": {}
        },
        {
            "cell_type": "markdown",
            "source": [
                "The following cell will create a \"flow\" object that will actually become the sequence of values we feed into the model for training and testing.  \n",
                "\n",
                "The main difference between the two \"flows\" is that the \"train\" version must use only the _training_ rows from the ground truth, and the \"test\" version uses only the _test_ rows."
            ],
            "metadata": {}
        },
        {
            "cell_type": "code",
            "execution_count": 6,
            "source": [
                "BATCH_SIZE = 32\n",
                "train_dataflow = train_generator.flow_from_dataframe(\n",
                "    ground_truth_df.iloc[train_indices,:],\n",
                "    x_col = \"image_path\",\n",
                "    y_col = \"class\",\n",
                "    target_size = (256,256),\n",
                "    shuffle = True,\n",
                "    seed = 2021,\n",
                "    batch_size=BATCH_SIZE,\n",
                ")\n",
                "test_dataflow = test_generator.flow_from_dataframe(\n",
                "    ground_truth_df.iloc[test_indices,:],\n",
                "    x_col = \"image_path\",\n",
                "    y_col = \"class\",\n",
                "    target_size = (256,256),\n",
                "    shuffle = False,\n",
                "    seed = 2021,\n",
                "    batch_size=BATCH_SIZE,\n",
                ")\n",
                "class_to_int = test_dataflow.class_indices\n",
                "image_classes = sorted(class_to_int.keys())"
            ],
            "outputs": [
                {
                    "output_type": "stream",
                    "name": "stdout",
                    "text": [
                        "Found 96 validated image filenames belonging to 3 classes.\n",
                        "Found 24 validated image filenames belonging to 3 classes.\n"
                    ]
                }
            ],
            "metadata": {}
        },
        {
            "cell_type": "markdown",
            "source": [
                "Now we can compile and train.  We will train for 30 epochs here."
            ],
            "metadata": {}
        },
        {
            "cell_type": "code",
            "execution_count": 7,
            "source": [
                "leaf_model.compile(optimizer='adam', loss='categorical_crossentropy', metrics=['acc'])\n",
                "leaf_model.fit(\n",
                "    train_dataflow,\n",
                "    validation_data=test_dataflow,\n",
                "    epochs=30,\n",
                "    batch_size=BATCH_SIZE\n",
                ")"
            ],
            "outputs": [
                {
                    "output_type": "stream",
                    "name": "stdout",
                    "text": [
                        "Epoch 1/30\n",
                        "3/3 [==============================] - 8s 3s/step - loss: 3.7391 - acc: 0.3854 - val_loss: 3.2986 - val_acc: 0.3333\n",
                        "Epoch 2/30\n",
                        "3/3 [==============================] - 6s 2s/step - loss: 2.7144 - acc: 0.2812 - val_loss: 1.4589 - val_acc: 0.3333\n",
                        "Epoch 3/30\n",
                        "3/3 [==============================] - 6s 2s/step - loss: 1.2251 - acc: 0.3542 - val_loss: 1.1923 - val_acc: 0.4167\n",
                        "Epoch 4/30\n",
                        "3/3 [==============================] - 6s 2s/step - loss: 1.1523 - acc: 0.3854 - val_loss: 1.0745 - val_acc: 0.3750\n",
                        "Epoch 5/30\n",
                        "3/3 [==============================] - 7s 2s/step - loss: 1.1059 - acc: 0.4375 - val_loss: 1.0091 - val_acc: 0.5000\n",
                        "Epoch 6/30\n",
                        "3/3 [==============================] - 6s 2s/step - loss: 1.0757 - acc: 0.4062 - val_loss: 1.1515 - val_acc: 0.4167\n",
                        "Epoch 7/30\n",
                        "3/3 [==============================] - 6s 2s/step - loss: 1.1265 - acc: 0.3958 - val_loss: 1.0421 - val_acc: 0.3750\n",
                        "Epoch 8/30\n",
                        "3/3 [==============================] - 6s 2s/step - loss: 1.1556 - acc: 0.3438 - val_loss: 1.0186 - val_acc: 0.4583\n",
                        "Epoch 9/30\n",
                        "3/3 [==============================] - 7s 2s/step - loss: 1.0556 - acc: 0.3646 - val_loss: 1.0765 - val_acc: 0.4167\n",
                        "Epoch 10/30\n",
                        "3/3 [==============================] - 6s 2s/step - loss: 1.0648 - acc: 0.4375 - val_loss: 1.0254 - val_acc: 0.4167\n",
                        "Epoch 11/30\n",
                        "3/3 [==============================] - 6s 2s/step - loss: 1.0499 - acc: 0.4167 - val_loss: 1.0139 - val_acc: 0.5417\n",
                        "Epoch 12/30\n",
                        "3/3 [==============================] - 6s 2s/step - loss: 1.0388 - acc: 0.4688 - val_loss: 0.9831 - val_acc: 0.4583\n",
                        "Epoch 13/30\n",
                        "3/3 [==============================] - 6s 2s/step - loss: 0.9707 - acc: 0.4792 - val_loss: 0.9808 - val_acc: 0.3750\n",
                        "Epoch 14/30\n",
                        "3/3 [==============================] - 6s 2s/step - loss: 0.9742 - acc: 0.5625 - val_loss: 0.9954 - val_acc: 0.3750\n",
                        "Epoch 15/30\n",
                        "3/3 [==============================] - 6s 2s/step - loss: 0.9603 - acc: 0.5938 - val_loss: 0.9246 - val_acc: 0.4583\n",
                        "Epoch 16/30\n",
                        "3/3 [==============================] - 6s 2s/step - loss: 0.9592 - acc: 0.5729 - val_loss: 0.9061 - val_acc: 0.5833\n",
                        "Epoch 17/30\n",
                        "3/3 [==============================] - 6s 2s/step - loss: 0.9333 - acc: 0.5208 - val_loss: 1.0532 - val_acc: 0.3750\n",
                        "Epoch 18/30\n",
                        "3/3 [==============================] - 6s 2s/step - loss: 0.9671 - acc: 0.5312 - val_loss: 0.9136 - val_acc: 0.5833\n",
                        "Epoch 19/30\n",
                        "3/3 [==============================] - 6s 2s/step - loss: 0.9243 - acc: 0.4896 - val_loss: 0.8898 - val_acc: 0.6250\n",
                        "Epoch 20/30\n",
                        "3/3 [==============================] - 6s 2s/step - loss: 0.9488 - acc: 0.4688 - val_loss: 0.8645 - val_acc: 0.7083\n",
                        "Epoch 21/30\n",
                        "3/3 [==============================] - 6s 2s/step - loss: 0.9294 - acc: 0.5208 - val_loss: 0.8928 - val_acc: 0.4583\n",
                        "Epoch 22/30\n",
                        "3/3 [==============================] - 6s 2s/step - loss: 0.9029 - acc: 0.5625 - val_loss: 0.8931 - val_acc: 0.4167\n",
                        "Epoch 23/30\n",
                        "3/3 [==============================] - 6s 2s/step - loss: 0.9208 - acc: 0.5521 - val_loss: 0.8971 - val_acc: 0.6250\n",
                        "Epoch 24/30\n",
                        "3/3 [==============================] - 6s 2s/step - loss: 0.8931 - acc: 0.5729 - val_loss: 0.8689 - val_acc: 0.4583\n",
                        "Epoch 25/30\n",
                        "3/3 [==============================] - 6s 2s/step - loss: 0.8407 - acc: 0.6667 - val_loss: 0.8673 - val_acc: 0.6667\n",
                        "Epoch 26/30\n",
                        "3/3 [==============================] - 7s 2s/step - loss: 0.8480 - acc: 0.6562 - val_loss: 0.8648 - val_acc: 0.5417\n",
                        "Epoch 27/30\n",
                        "3/3 [==============================] - 6s 2s/step - loss: 0.8545 - acc: 0.6146 - val_loss: 0.8436 - val_acc: 0.5833\n",
                        "Epoch 28/30\n",
                        "3/3 [==============================] - 6s 2s/step - loss: 0.8443 - acc: 0.6250 - val_loss: 0.8668 - val_acc: 0.5000\n",
                        "Epoch 29/30\n",
                        "3/3 [==============================] - 6s 2s/step - loss: 0.8514 - acc: 0.5104 - val_loss: 0.8505 - val_acc: 0.5417\n",
                        "Epoch 30/30\n",
                        "3/3 [==============================] - 6s 2s/step - loss: 0.8074 - acc: 0.6042 - val_loss: 0.8556 - val_acc: 0.5417\n"
                    ]
                },
                {
                    "output_type": "execute_result",
                    "data": {
                        "text/plain": [
                            "<tensorflow.python.keras.callbacks.History at 0x1976f2d00>"
                        ]
                    },
                    "metadata": {},
                    "execution_count": 7
                }
            ],
            "metadata": {}
        },
        {
            "cell_type": "markdown",
            "source": [
                "Now, we have trained the model for a bit - let's see how the accuracy actually looks with our previous metrics:"
            ],
            "metadata": {}
        },
        {
            "cell_type": "code",
            "execution_count": 8,
            "source": [
                "gt_classes = test_dataflow.classes\n",
                "print(gt_classes)"
            ],
            "outputs": [
                {
                    "output_type": "stream",
                    "name": "stdout",
                    "text": [
                        "[2, 2, 2, 1, 0, 1, 1, 0, 2, 2, 1, 0, 0, 0, 1, 1, 2, 1, 2, 1, 0, 0, 2, 0]\n"
                    ]
                }
            ],
            "metadata": {}
        },
        {
            "cell_type": "code",
            "execution_count": 9,
            "source": [
                "predictions = leaf_model.predict(test_dataflow)\n",
                "predicted_classes = list(np.argmax(predictions, axis=1))\n",
                "print(predicted_classes)"
            ],
            "outputs": [
                {
                    "output_type": "stream",
                    "name": "stdout",
                    "text": [
                        "[1, 2, 1, 1, 0, 1, 1, 1, 2, 1, 1, 0, 1, 2, 2, 1, 2, 1, 2, 1, 1, 1, 0, 1]\n"
                    ]
                }
            ],
            "metadata": {}
        },
        {
            "cell_type": "code",
            "execution_count": 10,
            "source": [
                "metrics.ConfusionMatrixDisplay(\n",
                "    metrics.confusion_matrix(gt_classes, predicted_classes), \n",
                "    display_labels=image_classes\n",
                ").plot()"
            ],
            "outputs": [
                {
                    "output_type": "execute_result",
                    "data": {
                        "text/plain": [
                            "<sklearn.metrics._plot.confusion_matrix.ConfusionMatrixDisplay at 0x197f460d0>"
                        ]
                    },
                    "metadata": {},
                    "execution_count": 10
                },
                {
                    "output_type": "display_data",
                    "data": {
                        "text/plain": [
                            "<Figure size 432x288 with 2 Axes>"
                        ],
                        "image/png": "[encoded data removed]"
                    },
                    "metadata": {
                        "needs_background": "light"
                    }
                }
            ],
            "metadata": {}
        },
        {
            "cell_type": "code",
            "execution_count": 11,
            "source": [
                "print(metrics.classification_report(gt_classes, predicted_classes, target_names=image_classes))"
            ],
            "outputs": [
                {
                    "output_type": "stream",
                    "name": "stdout",
                    "text": [
                        "              precision    recall  f1-score   support\n",
                        "\n",
                        "  brown_spot       0.67      0.25      0.36         8\n",
                        " leaf_blight       0.47      0.88      0.61         8\n",
                        "   leaf_smut       0.67      0.50      0.57         8\n",
                        "\n",
                        "    accuracy                           0.54        24\n",
                        "   macro avg       0.60      0.54      0.51        24\n",
                        "weighted avg       0.60      0.54      0.51        24\n",
                        "\n"
                    ]
                }
            ],
            "metadata": {}
        },
        {
            "cell_type": "markdown",
            "source": [
                "The performance still isn't great, but we can see that it is in the same range as our previous attempt at transfer learning with a very large model.   We might be able to squeeze more performance out of this one by using transfer learning from a similar data set...\n",
                "\n",
                "What do you think?\n",
                "\n",
                "---\n",
                "\n",
                "_Note:_ You may also notice that there was one epoch where the validation performance reached ~70%!  If we had saved weights at that moment, we would have had a better performing model -- on this test set...  Does that mean it would perform better on new rice images?  Probably not.  Be careful about selecting a model based on one epoch where the validation performance is high.  It could have just been a \"lucky\" set of weights on that epoch.  To _really_ solve this problem, we need to do two things.  1) Use a third partition for the validation set during training.  Only evaluate the test set after we've chosen what we think is our best model.  2) Repeat this process using cross-validation to see how well it generalized.  We acknowledge that cross-validation is time and cost-prohibitive, but it is best-practice when you can afford to do it."
            ],
            "metadata": {}
        }
    ],
    "metadata": {
        "orig_nbformat": 4,
        "language_info": {
            "name": "python"
        }
    },
    "nbformat": 4,
    "nbformat_minor": 2
}