{
    "cells": [
        {
            "cell_type": "markdown",
            "source": [
                "This notebook shows how the pretrained weights for the [Rice Leaf Diseases: Implementing a Custom Model - Part 2](rice_image_classification_2.ipynb) notebook.  The weights were produced by fitting the same model architecture [1] (except for the classifier layer) to the \"Plant Leaves\" dataset from [2]:\n",
                "\n",
                "    https://data.mendeley.com/datasets/hb74ynkjcn/1\n",
                "    dl: https://md-datasets-cache-zipfiles-prod.s3.eu-west-1.amazonaws.com/hb74ynkjcn-1.zip\n",
                "\n",
                "> Principally, the complete set of images have been classified among two classes\n",
                "> i.e. healthy and diseased. First, the acquired images are classified and labeled\n",
                "> conferring to the plants. The plants were named ranging from P0 to P11. Then the\n",
                "> entire dataset has been divided among 22 subject categories ranging from 0000 to\n",
                "> 0022. The classes labeled with 0000 to 0011 were marked as a healthy class and\n",
                "> ranging from 0012 to 0022 were labeled diseased class.\n",
                "\n",
                "[1]: Wick, C. & Puppe, F. Leaf Identification Using a Deep Convolutional Neural Network. arXiv:1712.00967 [cs] (2017).\n",
                "\n",
                "[2]: CHOUHAN, Siddharth Singh; Kaul, Ajay; SINGH, UDAY PRATAP; Madhav Institute of Technology & Science  (2019), “A Database of Leaf Images: Practice towards Plant Conservation with Plant Pathology”, Mendeley Data, V1, doi: 10.17632/hb74ynkjcn.1 <https://data.mendeley.com/datasets/hb74ynkjcn/1>"
            ],
            "metadata": {}
        },
        {
            "cell_type": "code",
            "execution_count": 1,
            "source": [
                "import sys, os\n",
                "import numpy as np\n",
                "import pandas as pd\n",
                "import tensorflow as tf\n",
                "import tensorflow.keras as keras\n",
                "import matplotlib.pyplot as plt\n",
                "from sklearn.model_selection import StratifiedShuffleSplit\n",
                "import sklearn.metrics as metrics\n"
            ],
            "outputs": [],
            "metadata": {}
        },
        {
            "cell_type": "markdown",
            "source": [
                "## First, obtain the data and create a CSV ground truth file for easy use later:\n",
                "\n",
                "First, download the dataset from:\n",
                "\n",
                "<https://md-datasets-cache-zipfiles-prod.s3.eu-west-1.amazonaws.com/hb74ynkjcn-1.zip>\n",
                "\n",
                "The directory structure has the plant name at top level:\n",
                "\n",
                "    Plant Name (PX)/\n",
                "    diseased/\n",
                "        ... files  \n",
                "    healthy/\n",
                "        ... files    "
            ],
            "metadata": {}
        },
        {
            "cell_type": "code",
            "execution_count": null,
            "source": [
                "# Set the following path to wherever you downloaded the Plant Leaves data:\n",
                "dataset_local = \"plant_leaves\"\n",
                "class_dirs = [path for path in os.listdir(dataset_local) if os.path.isdir(os.path.join(dataset_local, path))]\n",
                "class_names = class_dirs\n",
                "print(class_dirs)"
            ],
            "outputs": [],
            "metadata": {}
        },
        {
            "cell_type": "markdown",
            "source": [
                "The following code will extract the information we need (plant names, class numbers and a disease indicator flat) from the directory structure and file naming scheme."
            ],
            "metadata": {}
        },
        {
            "cell_type": "code",
            "execution_count": null,
            "source": [
                "plant_names     = []\n",
                "image_names     = []\n",
                "class_numbers   = []\n",
                "plant_numbers   = []\n",
                "disease_classes = []\n",
                "for c_name in class_dirs:\n",
                "    for d_class in ['diseased', 'healthy']:\n",
                "        img_path = os.path.join(c_name, d_class)\n",
                "        try:\n",
                "            images = os.listdir(os.path.join(dataset_local, img_path))\n",
                "            image_names.extend([os.path.join(img_path, img_name) for img_name in images])\n",
                "            new_class_numbers = [int(img_name[:4]) for img_name in images]\n",
                "            class_numbers.extend(new_class_numbers)\n",
                "            disease_classes.extend([int(d_class == 'diseased') for _ in images])\n",
                "            plant_numbers.extend([(c_no - 1) % 11 + 1 for c_no in new_class_numbers])\n",
                "            plant_names.extend([c_name for _ in images])\n",
                "        except FileNotFoundError:\n",
                "            print(f\"No listing for \\\"{d_class}\\\" in plant \\\"{c_name}\\\".\")\n",
                "            continue"
            ],
            "outputs": [],
            "metadata": {}
        },
        {
            "cell_type": "markdown",
            "source": [
                "Now we can create a DataFrame containing that information, along with a path to each file.  This makes it easy to use \"flow_from_dataframe()\" later during training and evaluation."
            ],
            "metadata": {}
        },
        {
            "cell_type": "code",
            "execution_count": null,
            "source": [
                "df = pd.DataFrame({\n",
                "    'plant_no': plant_numbers,\n",
                "    'plant_name': plant_names,\n",
                "    'class_no': class_numbers,\n",
                "    'diseased_flag': disease_classes,\n",
                "    'image_path': image_names,\n",
                "})\n",
                "\n",
                "# Show a bit of what the data look like, and save the DataFrame to a CSV file for later use.\n",
                "\n",
                "print(df.sample(n=10))\n",
                "df = df.sort_values(by=['class_no'])\n",
                "df.to_csv(\"plant_leaves_gt.csv\", index=False)"
            ],
            "outputs": [],
            "metadata": {}
        },
        {
            "cell_type": "markdown",
            "source": [
                "## Build the classifier model for solving the Plant Leaves problem"
            ],
            "metadata": {}
        },
        {
            "cell_type": "code",
            "execution_count": 2,
            "source": [
                "def build_leaf_classifier_model(input_shape=(256,256,3), n_classes=3):\n",
                "    '''\n",
                "    This function builds a Keras CNN similar to the one described in Wick et al. (2017).\n",
                "    '''\n",
                "    lrelu = keras.layers.LeakyReLU()\n",
                "    input = keras.layers.Input(shape=input_shape)\n",
                "    x = keras.layers.Conv2D(40, (3,3), activation=lrelu, padding='same', name=\"conv1\")(input)\n",
                "    x = keras.layers.MaxPool2D((2,2), name='max_pool1')(x)\n",
                "    x = keras.layers.Conv2D(40, (4,4), activation=lrelu, padding='same', name='conv2')(x)\n",
                "    x = keras.layers.MaxPool2D((2,2), name='max_pool2')(x)\n",
                "    x = keras.layers.Conv2D(80, (4,4), activation=lrelu, padding='same', name='conv3')(x)\n",
                "    x = keras.layers.MaxPool2D((2,2), name='max_pool3')(x)\n",
                "    x = keras.layers.Conv2D(160, (4,4), activation=lrelu, padding='same', name='conv4')(x)\n",
                "    x = keras.layers.MaxPool2D((2,2), name='max_pool4')(x)\n",
                "    x = keras.layers.Flatten()(x)\n",
                "    x = keras.layers.Dense(500, activation=lrelu)(x)\n",
                "    x = keras.layers.Dropout(0.20)(x)\n",
                "    x = keras.layers.Dense(n_classes, activation='softmax')(x)\n",
                "    return keras.Model(inputs=input, outputs=x)"
            ],
            "outputs": [],
            "metadata": {}
        },
        {
            "cell_type": "code",
            "execution_count": 3,
            "source": [
                "def evaluate(model, val_gen):\n",
                "    batches = [list(next(val_gen))[0] for idx in range(len(val_gen))]\n",
                "    gt = []\n",
                "    for batch in batches:\n",
                "        gt.extend(batch)\n",
                "    gt = np.array(gt)\n",
                "    predictions = model._autoencoder.predict(gt)\n",
                "    # for i in range(3):\n",
                "    #     side_by_side(gt[i], predictions[i])\n",
                "    mse = keras.metrics.MeanSquaredError()\n",
                "    mse.update_state(gt, predictions)\n",
                "    return mse.result().numpy()"
            ],
            "outputs": [],
            "metadata": {}
        },
        {
            "cell_type": "code",
            "execution_count": 4,
            "source": [
                "# Load the plant leaves dataset ground truth.  We will use it to pre-train the model.\n",
                "plant_leaves_data_dir = \"plant_leaves\"\n",
                "plant_leaves_gt = pd.read_csv(\"plant_leaves_gt.csv\", index_col=False)\n",
                "# Create a more model-friendly plant name/class scheme:\n",
                "plant_leaves_gt['class_name'] = [plant['plant_name'].split()[0] + {0: \"_healthy\", 1: \"_diseased\"}[plant['diseased_flag']] for _, plant in plant_leaves_gt.iterrows()]\n",
                "image_classes = list(plant_leaves_gt['class_name'].unique())\n",
                "# Now, the class is a numeric representation and class_name is a string representation.\n",
                "plant_leaves_gt.head()"
            ],
            "outputs": [
                {
                    "output_type": "execute_result",
                    "data": {
                        "text/plain": [
                            "   plant_no  plant_name  class_no  diseased_flag  \\\n",
                            "0         1  Mango (P0)         1              0   \n",
                            "1         1  Mango (P0)         1              0   \n",
                            "2         1  Mango (P0)         1              0   \n",
                            "3         1  Mango (P0)         1              0   \n",
                            "4         1  Mango (P0)         1              0   \n",
                            "\n",
                            "                         image_path     class_name  \n",
                            "0  Mango (P0)/healthy/0001_0016.JPG  Mango_healthy  \n",
                            "1  Mango (P0)/healthy/0001_0098.JPG  Mango_healthy  \n",
                            "2  Mango (P0)/healthy/0001_0048.JPG  Mango_healthy  \n",
                            "3  Mango (P0)/healthy/0001_0068.JPG  Mango_healthy  \n",
                            "4  Mango (P0)/healthy/0001_0155.JPG  Mango_healthy  "
                        ],
                        "text/html": [
                            "<div>\n",
                            "<style scoped>\n",
                            "    .dataframe tbody tr th:only-of-type {\n",
                            "        vertical-align: middle;\n",
                            "    }\n",
                            "\n",
                            "    .dataframe tbody tr th {\n",
                            "        vertical-align: top;\n",
                            "    }\n",
                            "\n",
                            "    .dataframe thead th {\n",
                            "        text-align: right;\n",
                            "    }\n",
                            "</style>\n",
                            "<table border=\"1\" class=\"dataframe\">\n",
                            "  <thead>\n",
                            "    <tr style=\"text-align: right;\">\n",
                            "      <th></th>\n",
                            "      <th>plant_no</th>\n",
                            "      <th>plant_name</th>\n",
                            "      <th>class_no</th>\n",
                            "      <th>diseased_flag</th>\n",
                            "      <th>image_path</th>\n",
                            "      <th>class_name</th>\n",
                            "    </tr>\n",
                            "  </thead>\n",
                            "  <tbody>\n",
                            "    <tr>\n",
                            "      <th>0</th>\n",
                            "      <td>1</td>\n",
                            "      <td>Mango (P0)</td>\n",
                            "      <td>1</td>\n",
                            "      <td>0</td>\n",
                            "      <td>Mango (P0)/healthy/0001_0016.JPG</td>\n",
                            "      <td>Mango_healthy</td>\n",
                            "    </tr>\n",
                            "    <tr>\n",
                            "      <th>1</th>\n",
                            "      <td>1</td>\n",
                            "      <td>Mango (P0)</td>\n",
                            "      <td>1</td>\n",
                            "      <td>0</td>\n",
                            "      <td>Mango (P0)/healthy/0001_0098.JPG</td>\n",
                            "      <td>Mango_healthy</td>\n",
                            "    </tr>\n",
                            "    <tr>\n",
                            "      <th>2</th>\n",
                            "      <td>1</td>\n",
                            "      <td>Mango (P0)</td>\n",
                            "      <td>1</td>\n",
                            "      <td>0</td>\n",
                            "      <td>Mango (P0)/healthy/0001_0048.JPG</td>\n",
                            "      <td>Mango_healthy</td>\n",
                            "    </tr>\n",
                            "    <tr>\n",
                            "      <th>3</th>\n",
                            "      <td>1</td>\n",
                            "      <td>Mango (P0)</td>\n",
                            "      <td>1</td>\n",
                            "      <td>0</td>\n",
                            "      <td>Mango (P0)/healthy/0001_0068.JPG</td>\n",
                            "      <td>Mango_healthy</td>\n",
                            "    </tr>\n",
                            "    <tr>\n",
                            "      <th>4</th>\n",
                            "      <td>1</td>\n",
                            "      <td>Mango (P0)</td>\n",
                            "      <td>1</td>\n",
                            "      <td>0</td>\n",
                            "      <td>Mango (P0)/healthy/0001_0155.JPG</td>\n",
                            "      <td>Mango_healthy</td>\n",
                            "    </tr>\n",
                            "  </tbody>\n",
                            "</table>\n",
                            "</div>"
                        ]
                    },
                    "metadata": {},
                    "execution_count": 4
                }
            ],
            "metadata": {}
        },
        {
            "cell_type": "code",
            "execution_count": 5,
            "source": [
                "sss = StratifiedShuffleSplit(1, test_size=0.10, random_state=2021)\n",
                "train_indices, test_indices = list(sss.split(plant_leaves_gt.values, plant_leaves_gt['class_no'].values))[0]\n",
                "print(f\"Training set has {train_indices.shape[0]} samples.\")\n",
                "print(f\"Test set has {test_indices.shape[0]} samples.\")"
            ],
            "outputs": [
                {
                    "output_type": "stream",
                    "name": "stdout",
                    "text": [
                        "Training set has 4051 samples.\n",
                        "Test set has 451 samples.\n"
                    ]
                }
            ],
            "metadata": {}
        },
        {
            "cell_type": "code",
            "execution_count": 6,
            "source": [
                "# Create the model -- notice the number of classes should \n",
                "# be 22 for this problem.\n",
                "leaf_model = build_leaf_classifier_model(n_classes=22)"
            ],
            "outputs": [],
            "metadata": {}
        },
        {
            "cell_type": "code",
            "execution_count": 7,
            "source": [
                "# Declare the generators and some simple augmentations for training\n",
                "test_generator = keras.preprocessing.image.ImageDataGenerator(\n",
                "    rescale=1.0/255.0\n",
                ")\n",
                "train_generator = keras.preprocessing.image.ImageDataGenerator(\n",
                "    rescale=1.0/255.0,\n",
                "    horizontal_flip=True,\n",
                "    vertical_flip=True,\n",
                "    rotation_range=45,\n",
                "    width_shift_range=0.20,\n",
                "    height_shift_range=0.10,\n",
                "    zoom_range=0.2,\n",
                "    brightness_range=(0.5, 1.25),\n",
                ")"
            ],
            "outputs": [],
            "metadata": {}
        },
        {
            "cell_type": "code",
            "execution_count": 13,
            "source": [
                "leaf_model.compile(optimizer='adam', loss='categorical_crossentropy', metrics=['acc'])\n",
                "BATCH_SIZE = 32\n",
                "callbacks = [keras.callbacks.ModelCheckpoint(\n",
                "    filepath=\"weights/lm-pre-ckpt_{epoch:02d}-{val_loss:.2f}.h5\",\n",
                "    monitor=\"val_loss\",\n",
                "    save_best_only=True,\n",
                "    save_weights_only=True,\n",
                "    mode=\"min\"\n",
                ")]\n",
                "history = leaf_model.fit(\n",
                "    train_generator.flow_from_dataframe(\n",
                "        plant_leaves_gt.iloc[train_indices,:],\n",
                "        directory=plant_leaves_data_dir,\n",
                "        x_col = \"image_path\",\n",
                "        y_col = \"class_name\",\n",
                "        target_size = (256,256),\n",
                "        classes = image_classes,\n",
                "        shuffle = True,\n",
                "        seed = 2021,\n",
                "        batch_size=BATCH_SIZE,\n",
                "    ),\n",
                "    validation_data=test_generator.flow_from_dataframe(\n",
                "        plant_leaves_gt.iloc[test_indices,:],\n",
                "        directory=plant_leaves_data_dir,\n",
                "        x_col = \"image_path\",\n",
                "        y_col = \"class_name\",\n",
                "        target_size = (256,256),\n",
                "        classes = image_classes,\n",
                "        shuffle = False,\n",
                "        seed = 2021,\n",
                "        batch_size=BATCH_SIZE,\n",
                "    ),\n",
                "    epochs=30,\n",
                "    batch_size=BATCH_SIZE,\n",
                "    callbacks=callbacks\n",
                ")"
            ],
            "outputs": [
                {
                    "output_type": "stream",
                    "name": "stdout",
                    "text": [
                        "Found 4051 validated image filenames belonging to 22 classes.\n",
                        "Found 451 validated image filenames belonging to 22 classes.\n",
                        "Epoch 2/30\n",
                        "127/127 [==============================] - 1084s 9s/step - loss: 1.9603 - acc: 0.3794 - val_loss: 1.5049 - val_acc: 0.5455\n",
                        "Epoch 3/30\n",
                        "127/127 [==============================] - 1090s 9s/step - loss: 1.7128 - acc: 0.4591 - val_loss: 1.3071 - val_acc: 0.5588\n",
                        "Epoch 4/30\n",
                        "127/127 [==============================] - 1083s 9s/step - loss: 1.4757 - acc: 0.5246 - val_loss: 1.1445 - val_acc: 0.6297\n",
                        "Epoch 5/30\n",
                        "127/127 [==============================] - 4075s 32s/step - loss: 1.2641 - acc: 0.5912 - val_loss: 1.5759 - val_acc: 0.4945\n",
                        "Epoch 6/30\n",
                        "127/127 [==============================] - 1082s 9s/step - loss: 1.1414 - acc: 0.6361 - val_loss: 1.2341 - val_acc: 0.5388\n",
                        "Epoch 7/30\n",
                        "127/127 [==============================] - 1077s 8s/step - loss: 1.0695 - acc: 0.6492 - val_loss: 0.9021 - val_acc: 0.7029\n",
                        "Epoch 8/30\n",
                        "127/127 [==============================] - 1084s 9s/step - loss: 0.9862 - acc: 0.6845 - val_loss: 0.7359 - val_acc: 0.7716\n",
                        "Epoch 9/30\n",
                        "127/127 [==============================] - 7240s 57s/step - loss: 0.9089 - acc: 0.7097 - val_loss: 0.8298 - val_acc: 0.7029\n",
                        "Epoch 10/30\n",
                        "127/127 [==============================] - 1079s 9s/step - loss: 0.7835 - acc: 0.7438 - val_loss: 0.7091 - val_acc: 0.7494\n",
                        "Epoch 11/30\n",
                        "127/127 [==============================] - 1082s 9s/step - loss: 0.8030 - acc: 0.7359 - val_loss: 0.5329 - val_acc: 0.8093\n",
                        "Epoch 12/30\n",
                        "127/127 [==============================] - 1099s 9s/step - loss: 0.7465 - acc: 0.7536 - val_loss: 0.5961 - val_acc: 0.8137\n",
                        "Epoch 13/30\n",
                        "127/127 [==============================] - 1098s 9s/step - loss: 0.7269 - acc: 0.7615 - val_loss: 0.6102 - val_acc: 0.7716\n",
                        "Epoch 14/30\n",
                        "127/127 [==============================] - 1093s 9s/step - loss: 0.6593 - acc: 0.7857 - val_loss: 0.8354 - val_acc: 0.7162\n",
                        "Epoch 15/30\n",
                        "127/127 [==============================] - 1102s 9s/step - loss: 0.6971 - acc: 0.7830 - val_loss: 0.5396 - val_acc: 0.8137\n",
                        "Epoch 16/30\n",
                        "127/127 [==============================] - 1086s 9s/step - loss: 0.5969 - acc: 0.8136 - val_loss: 0.4188 - val_acc: 0.8559\n",
                        "Epoch 17/30\n",
                        "127/127 [==============================] - 1080s 9s/step - loss: 0.6136 - acc: 0.7978 - val_loss: 0.6750 - val_acc: 0.7694\n",
                        "Epoch 18/30\n",
                        "127/127 [==============================] - 1082s 9s/step - loss: 0.5810 - acc: 0.8161 - val_loss: 0.6485 - val_acc: 0.8160\n",
                        "Epoch 19/30\n",
                        "127/127 [==============================] - 1055s 8s/step - loss: 0.6399 - acc: 0.7944 - val_loss: 0.5421 - val_acc: 0.8293\n",
                        "Epoch 20/30\n",
                        "127/127 [==============================] - 1036s 8s/step - loss: 0.6308 - acc: 0.7946 - val_loss: 0.5466 - val_acc: 0.8248\n",
                        "Epoch 21/30\n",
                        "127/127 [==============================] - 1034s 8s/step - loss: 0.5450 - acc: 0.8260 - val_loss: 0.3793 - val_acc: 0.8736\n",
                        "Epoch 22/30\n",
                        "127/127 [==============================] - 1037s 8s/step - loss: 0.5738 - acc: 0.8146 - val_loss: 0.5903 - val_acc: 0.8137\n",
                        "Epoch 23/30\n",
                        "127/127 [==============================] - 1033s 8s/step - loss: 0.4807 - acc: 0.8432 - val_loss: 0.3732 - val_acc: 0.8936\n",
                        "Epoch 24/30\n",
                        "127/127 [==============================] - 1036s 8s/step - loss: 0.5963 - acc: 0.8072 - val_loss: 0.3933 - val_acc: 0.8581\n",
                        "Epoch 25/30\n",
                        "127/127 [==============================] - 1031s 8s/step - loss: 0.5062 - acc: 0.8408 - val_loss: 0.3873 - val_acc: 0.8758\n",
                        "Epoch 26/30\n",
                        "127/127 [==============================] - 1025s 8s/step - loss: 0.4666 - acc: 0.8581 - val_loss: 0.6666 - val_acc: 0.7871\n",
                        "Epoch 27/30\n",
                        "127/127 [==============================] - 1029s 8s/step - loss: 0.5436 - acc: 0.8334 - val_loss: 0.4670 - val_acc: 0.8625\n",
                        "Epoch 28/30\n",
                        "127/127 [==============================] - 1032s 8s/step - loss: 0.4681 - acc: 0.8521 - val_loss: 0.4147 - val_acc: 0.8692\n",
                        "Epoch 29/30\n",
                        "127/127 [==============================] - 1034s 8s/step - loss: 0.4494 - acc: 0.8620 - val_loss: 0.4880 - val_acc: 0.8426\n",
                        "Epoch 30/30\n",
                        "127/127 [==============================] - 1032s 8s/step - loss: 0.4339 - acc: 0.8672 - val_loss: 0.3465 - val_acc: 0.9002\n"
                    ]
                }
            ],
            "metadata": {}
        },
        {
            "cell_type": "code",
            "execution_count": 14,
            "source": [
                "import joblib\n",
                "joblib.dump(history.history, \"lm-pre-fit_history.joblib.gz\")"
            ],
            "outputs": [
                {
                    "output_type": "execute_result",
                    "data": {
                        "text/plain": [
                            "['lm-pre-fit_history.joblib.gz']"
                        ]
                    },
                    "metadata": {},
                    "execution_count": 14
                }
            ],
            "metadata": {}
        },
        {
            "cell_type": "code",
            "execution_count": 17,
            "source": [
                "def plot_history(history):\n",
                "    plt.plot(history.history['loss'])\n",
                "    plt.plot(history.history['val_loss'])\n",
                "    plt.plot(history.history['acc'])\n",
                "    plt.plot(history.history['val_acc'])\n",
                "    plt.title('Training Loss / Accuracy')\n",
                "    plt.ylabel('loss/accuracy')\n",
                "    plt.xlabel('epoch')\n",
                "    plt.ylim((0,2.0))\n",
                "    plt.legend(['train loss', 'val loss', 'train acc', 'val acc'], loc='upper left')\n",
                "    plt.show()\n"
            ],
            "outputs": [],
            "metadata": {}
        },
        {
            "cell_type": "code",
            "execution_count": 18,
            "source": [
                "plot_history(history)"
            ],
            "outputs": [
                {
                    "output_type": "display_data",
                    "data": {
                        "text/plain": [
                            "<Figure size 432x288 with 1 Axes>"
                        ],
                        "image/png": "[encoded data removed]"
                    },
                    "metadata": {
                        "needs_background": "light"
                    }
                }
            ],
            "metadata": {}
        },
        {
            "cell_type": "code",
            "execution_count": 19,
            "source": [
                "best_weights = \"weights/lm-pre-ckpt_30-0.35.h5\""
            ],
            "outputs": [],
            "metadata": {}
        },
        {
            "cell_type": "code",
            "execution_count": null,
            "source": [],
            "outputs": [],
            "metadata": {}
        }
    ],
    "metadata": {
        "orig_nbformat": 4,
        "language_info": {
            "name": "python"
        }
    },
    "nbformat": 4,
    "nbformat_minor": 2
}